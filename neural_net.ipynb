{
 "cells": [
  {
   "cell_type": "code",
   "execution_count": 1,
   "metadata": {},
   "outputs": [],
   "source": [
    "import numpy as np"
   ]
  },
  {
   "cell_type": "code",
   "execution_count": 2,
   "metadata": {},
   "outputs": [
    {
     "name": "stdout",
     "output_type": "stream",
     "text": [
      "(8000, 20)\n",
      "(8000,)\n"
     ]
    }
   ],
   "source": [
    "## Here we are generating dataset\n",
    "\n",
    "\n",
    "from sklearn.datasets import make_classification\n",
    "from sklearn.model_selection import  train_test_split\n",
    "\n",
    "n_x = 20\n",
    "m = 10000\n",
    "\n",
    "X, Y = make_classification(n_samples=m, n_classes=2, random_state=42)\n",
    "X_train, X_test, Y_train, Y_test = train_test_split(X, Y, test_size=0.2, random_state=42)\n",
    "\n",
    "print(X_train.shape)\n",
    "print(Y_train.shape)"
   ]
  },
  {
   "cell_type": "code",
   "execution_count": 3,
   "metadata": {},
   "outputs": [],
   "source": [
    "def initialize_weights(n_x, n_h):\n",
    "    '''\n",
    "    Function to initalize the Weights for the Logistic regression\n",
    "    \n",
    "    I/P\n",
    "    n_x = no. of input sfeatures\n",
    "    n_h = no. of nodes in layer\n",
    "    \n",
    "    O/P\n",
    "    W = Initial weights\n",
    "    b = initial bias\n",
    "    '''\n",
    "    \n",
    "    W_1 = np.random.randn(n_h, n_x) * 0.01\n",
    "    b_1 = np.zeros((n_h, 1))\n",
    "    \n",
    "    W_2 = np.random.randn(1, n_h) * 0.01\n",
    "    b_2 = np.zeros((1, 1))\n",
    "    \n",
    "    return W_1, b_1, W_2, b_2"
   ]
  },
  {
   "cell_type": "code",
   "execution_count": 4,
   "metadata": {},
   "outputs": [],
   "source": [
    "def sigmoid(Z):\n",
    "    '''\n",
    "    Function to calculate sigmoid activation:\n",
    "    \n",
    "    I/P\n",
    "    Z = WX +b\n",
    "    \n",
    "    O/P\n",
    "    A = 1/(1+np.exp(-Z))\n",
    "    '''\n",
    "    \n",
    "    A = 1 / (1 + np.exp(-Z))\n",
    "    A = A.reshape(Z.shape)\n",
    "    \n",
    "    return A\n",
    "\n",
    "def relu(Z):\n",
    "    '''\n",
    "    Function to calculate relu activation:\n",
    "    \n",
    "    I/P\n",
    "    Z = WX +b\n",
    "    \n",
    "    O/P\n",
    "    A = max(0,Z)\n",
    "    '''\n",
    "    \n",
    "    A = np.maximum(0, Z)\n",
    "    A = A.reshape(Z.shape)\n",
    "    \n",
    "    return A\n",
    "\n",
    "def relugrad(Z):\n",
    "    '''\n",
    "    Function to calculate relu gradient:\n",
    "    \n",
    "    I/P\n",
    "    Z = WX +b\n",
    "    \n",
    "    O/P\n",
    "    A = 0 if Z < 0 else 1\n",
    "    '''\n",
    "    \n",
    "    A = Z >= 0\n",
    "    A = A.reshape(Z.shape)\n",
    "    \n",
    "    return A.astype(int)"
   ]
  },
  {
   "cell_type": "code",
   "execution_count": 5,
   "metadata": {},
   "outputs": [],
   "source": [
    "def linear_function(W,X,b):\n",
    "    '''\n",
    "    To calculate Linear function Z\n",
    "    \n",
    "    Z = W.T * X + b\n",
    "    '''\n",
    "\n",
    "    Z = np.dot(W, X) + b\n",
    "    Z = Z.reshape(W.shape[0], X.shape[1])\n",
    "    \n",
    "    return Z"
   ]
  },
  {
   "cell_type": "code",
   "execution_count": 6,
   "metadata": {},
   "outputs": [],
   "source": [
    "def cost(A, Y):\n",
    "    '''\n",
    "    To calculate cost function for logistice regression\n",
    "    \n",
    "    L = -( Y*log(A) + (1-Y)*log(1-A))\n",
    "    J = - (1/m) * np.sum(Y*log(A) + (1-Y)*log(1-A), keepdims=True, axis=1)\n",
    "    '''\n",
    "    \n",
    "    j = - (1/m) * np.sum(Y*np.log(A) + (1-Y)*np.log(1-A), keepdims=True, axis=1)\n",
    "    \n",
    "    return j[0][0]"
   ]
  },
  {
   "cell_type": "code",
   "execution_count": 7,
   "metadata": {},
   "outputs": [],
   "source": [
    "def forward(W_1,b_1,W_2,b_2,A_0):\n",
    "    '''\n",
    "    Function to forward propogate.\n",
    "    \n",
    "    O/P\n",
    "    Predicted value\n",
    "    '''\n",
    "\n",
    "    Z_1 = linear_function(W_1,A_0,b_1)\n",
    "    A_1 = relu(Z_1)\n",
    "    \n",
    "    Z_2 = linear_function(W_2,A_1,b_2)\n",
    "    A_o = sigmoid(Z_2)\n",
    "\n",
    "    return A_o, A_1, Z_1"
   ]
  },
  {
   "cell_type": "code",
   "execution_count": 8,
   "metadata": {},
   "outputs": [],
   "source": [
    "def backward(A_o,A_1,A_0,W_2,Z_1,Y):\n",
    "    '''\n",
    "    Function to calculate Backward derivatives\n",
    "    I/P\n",
    "    A_o, A_1, A_0 = Predicted Probability, Output from Layer 1 and Layer 0\n",
    "    W_2 = Weight of Layer 2\n",
    "    Z_1 = Linear function associated with Layer 1\n",
    "    \n",
    "    O/P\n",
    "    returns gradients of W and b\n",
    "    \n",
    "    '''\n",
    "    m = X.shape[1]\n",
    "    \n",
    "    dZ_2 = A_o - Y\n",
    "    dW_2 = -(1/m) * np.dot(dZ_2, A_1.T)\n",
    "    db_2 = -(1/m) * np.sum(dZ_2, keepdims=True, axis = 1)\n",
    "    \n",
    "    dZ_1 = np.dot(W_2.T, dZ_2) * relugrad(Z_1)  \n",
    "    dW_1 = -(1/m) * np.dot(dZ_1, A_0)\n",
    "    db_1 = -(1/m) * np.sum(dZ_1, keepdims=True, axis = 1)\n",
    "    \n",
    "    return dW_2, db_2, dW_1, db_1"
   ]
  },
  {
   "cell_type": "code",
   "execution_count": 9,
   "metadata": {},
   "outputs": [],
   "source": [
    "def predict(W_1, b_1, W_2, b_2, X):\n",
    "    \n",
    "    X = X.T\n",
    "    A_o, A_1, Z_1 = forward(W_1, b_1, W_2, b_2, X)\n",
    "    Y_p = A_o >= 0.5\n",
    "    \n",
    "    return Y_p.squeeze().astype(int)"
   ]
  },
  {
   "cell_type": "code",
   "execution_count": 10,
   "metadata": {},
   "outputs": [],
   "source": [
    "def neural_net(train, test, iterations = 1000, lr=0.01):\n",
    "    \n",
    "    # Reshape the train and test parameters\n",
    "    X = train[0].T\n",
    "    Y = train[1].reshape(1,-1)\n",
    "    \n",
    "    X_test = test[0]\n",
    "    Y_test = test[1]\n",
    "    \n",
    "    n_x = X.shape[0]\n",
    "    n_h = 20\n",
    "    W_1, b_1, W_2, b_2 = initialize_weights(n_x, n_h)\n",
    "    \n",
    "    Y_p = predict(W_1, b_1, W_2, b_2, X_test)\n",
    "    test_acc = 1 - np.sum(np.abs(Y_p - Y_test))/Y_test.shape[0]\n",
    "    print(f'Iteration NA -- NA -- {test_acc}')\n",
    "    \n",
    "    for i in range(iterations):\n",
    "        \n",
    "        A_o, A_1, Z_1 = forward(W_1,b_1,W_2,b_2,X)\n",
    "        j = cost(A_o, Y)\n",
    "        dW_2, db_2, dW_1, db_1 = backward(A_o,A_1,X_train,W_2,Z_1,Y)\n",
    "\n",
    "        # Update the weights and bias here\n",
    "        W_1 = W_1 + lr * dW_1\n",
    "        b_1 = b_1 + lr * db_1\n",
    "        \n",
    "        W_2 = W_2 + lr * dW_2\n",
    "        b_2 = b_2 + lr * db_2\n",
    "        \n",
    "        if not i % 100:\n",
    "            if test:\n",
    "                Y_p = predict(W_1, b_1, W_2, b_2, X_test)\n",
    "                test_acc = 1 - np.sum(np.abs(Y_p - Y_test))/Y_test.shape[0]\n",
    "                print(f'Iteration {i} -- {j} -- {test_acc}')\n",
    "            \n",
    "    \n",
    "    return W_1, b_1, W_2, b_2"
   ]
  },
  {
   "cell_type": "code",
   "execution_count": 11,
   "metadata": {},
   "outputs": [
    {
     "name": "stdout",
     "output_type": "stream",
     "text": [
      "Iteration NA -- NA -- 0.362\n",
      "Iteration 0 -- 0.5546992469512698 -- 0.6415\n",
      "Iteration 100 -- 0.1980516387921557 -- 0.924\n",
      "Iteration 200 -- 0.18499002892095684 -- 0.9345\n",
      "Iteration 300 -- 0.18036588893174446 -- 0.938\n",
      "Iteration 400 -- 0.17746695560702053 -- 0.938\n",
      "Iteration 500 -- 0.1755357457886904 -- 0.938\n",
      "Iteration 600 -- 0.17430994112178266 -- 0.9375\n",
      "Iteration 700 -- 0.173334055778233 -- 0.937\n",
      "Iteration 800 -- 0.17239511468574134 -- 0.9359999999999999\n",
      "Iteration 900 -- 0.1733417678987401 -- 0.938\n"
     ]
    }
   ],
   "source": [
    "W_1, b_1, W_2, b_2 = neural_net( train=(X_train, Y_train), test=(X_test, Y_test), iterations = 1000, lr=0.002)"
   ]
  },
  {
   "cell_type": "code",
   "execution_count": null,
   "metadata": {},
   "outputs": [],
   "source": []
  }
 ],
 "metadata": {
  "kernelspec": {
   "display_name": "Python 3",
   "language": "python",
   "name": "python3"
  },
  "language_info": {
   "codemirror_mode": {
    "name": "ipython",
    "version": 3
   },
   "file_extension": ".py",
   "mimetype": "text/x-python",
   "name": "python",
   "nbconvert_exporter": "python",
   "pygments_lexer": "ipython3",
   "version": "3.7.4"
  }
 },
 "nbformat": 4,
 "nbformat_minor": 2
}
