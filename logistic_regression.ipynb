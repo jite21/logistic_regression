{
 "cells": [
  {
   "cell_type": "code",
   "execution_count": 69,
   "metadata": {},
   "outputs": [],
   "source": [
    "import numpy as np"
   ]
  },
  {
   "cell_type": "code",
   "execution_count": 89,
   "metadata": {},
   "outputs": [
    {
     "name": "stdout",
     "output_type": "stream",
     "text": [
      "(8000, 20)\n",
      "(8000,)\n"
     ]
    }
   ],
   "source": [
    "## Here we are generating dataset\n",
    "\n",
    "\n",
    "from sklearn.datasets import make_classification\n",
    "from sklearn.model_selection import  train_test_split\n",
    "\n",
    "n_x = 20\n",
    "m = 10000\n",
    "\n",
    "X, Y = make_classification(n_samples=m, n_classes=2, random_state=42)\n",
    "X_train, X_test, Y_train, Y_test = train_test_split(X, Y, test_size=0.2, random_state=42)\n",
    "\n",
    "print(X_train.shape)\n",
    "print(Y_train.shape)"
   ]
  },
  {
   "cell_type": "code",
   "execution_count": 71,
   "metadata": {},
   "outputs": [],
   "source": [
    "def initialize_weights(n_x):\n",
    "    '''\n",
    "    Function to initalize the Weights for the Logistic regression\n",
    "    \n",
    "    I/P\n",
    "    n_x = no. of features\n",
    "    \n",
    "    O/P\n",
    "    W = Initial weight\n",
    "    b = initial bias\n",
    "    '''\n",
    "    \n",
    "    W = np.zeros((1, n_x))\n",
    "    b = np.zeros((1, 1))\n",
    "    \n",
    "    return W,b"
   ]
  },
  {
   "cell_type": "code",
   "execution_count": 72,
   "metadata": {},
   "outputs": [],
   "source": [
    "def sigmoid(Z):\n",
    "    '''\n",
    "    Function to calculate sigmoid activation:\n",
    "    O/P\n",
    "    A = 1/(1+np.exp(-Z))\n",
    "    \n",
    "    I/P\n",
    "    Z = WX +b\n",
    "    '''\n",
    "    \n",
    "    A = 1 / (1 + np.exp(-Z))\n",
    "    A = A.reshape(Z.shape)\n",
    "    \n",
    "    return A"
   ]
  },
  {
   "cell_type": "code",
   "execution_count": 73,
   "metadata": {},
   "outputs": [],
   "source": [
    "def linear_function(W,X,b):\n",
    "    '''\n",
    "    To calculate Linear function Z\n",
    "    \n",
    "    Z = W.T * X + b\n",
    "    '''\n",
    "    \n",
    "    Z = np.dot(W, X) + b\n",
    "    Z = Z.reshape(1, X.shape[1])\n",
    "    \n",
    "    return Z"
   ]
  },
  {
   "cell_type": "code",
   "execution_count": 74,
   "metadata": {},
   "outputs": [],
   "source": [
    "def cost(A, Y):\n",
    "    '''\n",
    "    To calculate cost function for logistice regression\n",
    "    \n",
    "    L = -( Y*log(A) + (1-Y)*log(1-A))\n",
    "    J = - (1/m) * np.sum(Y*log(A) + (1-Y)*log(1-A), keepdims=True, axis=1)\n",
    "    '''\n",
    "    \n",
    "    j = - (1/m) * np.sum(Y*np.log(A) + (1-Y)*np.log(1-A), keepdims=True, axis=1)\n",
    "    \n",
    "    return j[0][0]"
   ]
  },
  {
   "cell_type": "code",
   "execution_count": 75,
   "metadata": {},
   "outputs": [],
   "source": [
    "def forward(W,X,b):\n",
    "    '''\n",
    "    Function to forward propogate.\n",
    "    \n",
    "    O/P\n",
    "    Predicted value\n",
    "    '''\n",
    "\n",
    "    Z = linear_function(W,X,b)\n",
    "    A = sigmoid(Z)\n",
    "\n",
    "    return A"
   ]
  },
  {
   "cell_type": "code",
   "execution_count": 76,
   "metadata": {},
   "outputs": [],
   "source": [
    "def backward(A,X,Y):\n",
    "    '''\n",
    "    Function to calculate Backward derivatives\n",
    "    I/P\n",
    "    A = Predicted Probability\n",
    "    X = Input\n",
    "    Y = Actual probability\n",
    "    \n",
    "    O/P\n",
    "    returns gradients of W and b\n",
    "    \n",
    "    '''\n",
    "    m = X.shape[1]\n",
    "    \n",
    "    dZ = A - Y\n",
    "    dW = -(1/m) * np.dot(dZ, X.T)\n",
    "    db = -(1/m) * np.sum(dZ, keepdims=True, axis = 1)\n",
    "    \n",
    "    return dW, db"
   ]
  },
  {
   "cell_type": "code",
   "execution_count": 77,
   "metadata": {},
   "outputs": [],
   "source": [
    "def predict(W,X,b):\n",
    "    \n",
    "    X = X.T\n",
    "    A = forward(W,X,b)\n",
    "    Y_p = A >= 0.5\n",
    "    \n",
    "    return Y_p.squeeze().astype(int)"
   ]
  },
  {
   "cell_type": "code",
   "execution_count": 101,
   "metadata": {},
   "outputs": [],
   "source": [
    "def logistic_regression(train, test, iterations = 1000, lr=0.01):\n",
    "    \n",
    "    # Reshape the train and test parameters\n",
    "    X = train[0].T\n",
    "    Y = train[1].reshape(1,-1)\n",
    "    \n",
    "    X_test = test[0]\n",
    "    Y_test = test[1]\n",
    "    \n",
    "    n_x = X.shape[0]\n",
    "    W,b = initialize_weights(n_x)\n",
    "    \n",
    "    Y_p = predict(W,X_test,b)\n",
    "    test_acc = 1 - np.sum(np.abs(Y_p - Y_test))/Y_test.shape[0]\n",
    "    print(f'Iteration NA -- NA -- {test_acc}')\n",
    "    \n",
    "    for i in range(iterations):\n",
    "        \n",
    "        A = forward(W,X,b)\n",
    "        j = cost(A, Y)\n",
    "        dW, db = backward(A,X,Y)\n",
    "\n",
    "        # Update the weights and bias here\n",
    "        W = W + lr * dW\n",
    "        b = b + lr * db\n",
    "        \n",
    "        if not i % 100:\n",
    "            if test:\n",
    "                Y_p = predict(W,X_test,b)\n",
    "                test_acc = 1 - np.sum(np.abs(Y_p - Y_test))/Y_test.shape[0]\n",
    "                print(f'Iteration {i} -- {j} -- {test_acc}')\n",
    "            \n",
    "    \n",
    "    return W,b"
   ]
  },
  {
   "cell_type": "code",
   "execution_count": 102,
   "metadata": {},
   "outputs": [
    {
     "name": "stdout",
     "output_type": "stream",
     "text": [
      "Iteration NA -- NA -- 0.497\n",
      "Iteration 0 -- 0.5545177444479563 -- 0.873\n",
      "Iteration 100 -- 0.4217794980210149 -- 0.8785000000000001\n",
      "Iteration 200 -- 0.3626394809786898 -- 0.8825000000000001\n",
      "Iteration 300 -- 0.33033731927703497 -- 0.8855\n",
      "Iteration 400 -- 0.31015857182338935 -- 0.886\n",
      "Iteration 500 -- 0.29640256029469253 -- 0.8875\n",
      "Iteration 600 -- 0.286444252591589 -- 0.887\n",
      "Iteration 700 -- 0.27891526772190883 -- 0.888\n",
      "Iteration 800 -- 0.27303420407174356 -- 0.8875\n",
      "Iteration 900 -- 0.2683227596986012 -- 0.889\n"
     ]
    }
   ],
   "source": [
    "W,b = logistic_regression( train=(X_train, Y_train), test=(X_test, Y_test), iterations = 1000, lr=0.007)"
   ]
  },
  {
   "cell_type": "code",
   "execution_count": null,
   "metadata": {},
   "outputs": [],
   "source": []
  }
 ],
 "metadata": {
  "kernelspec": {
   "display_name": "Python 3",
   "language": "python",
   "name": "python3"
  },
  "language_info": {
   "codemirror_mode": {
    "name": "ipython",
    "version": 3
   },
   "file_extension": ".py",
   "mimetype": "text/x-python",
   "name": "python",
   "nbconvert_exporter": "python",
   "pygments_lexer": "ipython3",
   "version": "3.7.4"
  }
 },
 "nbformat": 4,
 "nbformat_minor": 2
}
